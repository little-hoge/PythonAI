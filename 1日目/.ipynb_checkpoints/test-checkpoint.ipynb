{
 "cells": [
  {
   "cell_type": "markdown",
   "metadata": {},
   "source": [
    "---\n",
    "## １章～２章\n",
    "---"
   ]
  },
  {
   "cell_type": "markdown",
   "metadata": {},
   "source": [
    "---\n",
    "#### Python基本構文テスト\n",
    "---"
   ]
  },
  {
   "cell_type": "code",
   "execution_count": 1,
   "metadata": {},
   "outputs": [
    {
     "name": "stdout",
     "output_type": "stream",
     "text": [
      "田中\n",
      "24\n",
      "['田中', '佐藤', '加藤']\n",
      "['田中', '佐藤', '鈴木']\n",
      "田中 佐藤 鈴木\n"
     ]
    }
   ],
   "source": [
    "# str型変数宣言\n",
    "name=\"田中\"\n",
    "print(name)\n",
    "\n",
    "# int型変数宣言\n",
    "age=24\n",
    "print(age)\n",
    "\n",
    "# リスト型宣言\n",
    "names=[\"田中\",\"佐藤\",\"加藤\"]\n",
    "print(names)\n",
    "\n",
    "# リスト更新\n",
    "names.append(\"鈴木\")\n",
    "names.remove(\"加藤\")\n",
    "print(names)\n",
    "\n",
    "# 各要素の出力\n",
    "print(names[0],names[1],names[2])"
   ]
  },
  {
   "cell_type": "code",
   "execution_count": 1,
   "metadata": {},
   "outputs": [
    {
     "name": "stdout",
     "output_type": "stream",
     "text": [
      "{'鈴木': '神田', '佐藤': '東京', '田中': '新宿'}\n",
      "{'鈴木': '神田', '佐藤': '渋谷', '田中': '新宿'}\n",
      "鈴木： 神田\n",
      "佐藤： 渋谷\n",
      "田中： 新宿\n"
     ]
    }
   ],
   "source": [
    "# リスト型変数宣言\n",
    "addresses={\"鈴木\":\"神田\",\"佐藤\":\"東京\",\"田中\":\"新宿\"}\n",
    "print(addresses)\n",
    "\n",
    "# リスト型変数更新\n",
    "addresses[\"佐藤\"]= \"渋谷\"\n",
    "print(addresses)\n",
    "\n",
    "# 各要素を出力\n",
    "print(\"鈴木：\",addresses[\"鈴木\"])\n",
    "print(\"佐藤：\",addresses[\"佐藤\"])\n",
    "print(\"田中：\",addresses[\"田中\"])"
   ]
  },
  {
   "cell_type": "code",
   "execution_count": 1,
   "metadata": {},
   "outputs": [
    {
     "name": "stdout",
     "output_type": "stream",
     "text": [
      "('神田', '東京', '新宿')\n",
      "stations[0]: 神田\n",
      "stations[1]: 東京\n",
      "stations[2]: 新宿\n"
     ]
    }
   ],
   "source": [
    "# リスト型変数 stations の宣言\n",
    "stations=(\"神田\",\"東京\",\"新宿\")\n",
    "print(stations)\n",
    "\n",
    "# 各要素の出力\n",
    "print(\"stations[0]:\",stations[0])\n",
    "print(\"stations[1]:\",stations[1])\n",
    "print(\"stations[2]:\",stations[2])"
   ]
  },
  {
   "cell_type": "markdown",
   "metadata": {},
   "source": [
    "---\n",
    "#### ライブラリのインポートテスト(NumPy)\n",
    "---"
   ]
  },
  {
   "cell_type": "code",
   "execution_count": 1,
   "metadata": {},
   "outputs": [
    {
     "name": "stdout",
     "output_type": "stream",
     "text": [
      "[[33]]\n"
     ]
    }
   ],
   "source": [
    "import numpy as np\n",
    "\n",
    "# 横ベクトルの宣言\n",
    "x =np.array ([[1,3]])\n",
    "\n",
    "# 縦ベクトルの宣言\n",
    "y =np.array ([[6], [9]])\n",
    "\n",
    "# x,yの掛け算\n",
    "xy= np.dot(x,y)\n",
    "print(xy)"
   ]
  },
  {
   "cell_type": "code",
   "execution_count": 1,
   "metadata": {},
   "outputs": [
    {
     "name": "stdout",
     "output_type": "stream",
     "text": [
      "[[33]\n",
      " [33]]\n"
     ]
    }
   ],
   "source": [
    "import numpy as np\n",
    "\n",
    "# 横ベクトルの宣言\n",
    "x =np.array ([[1,3],[1,3]])\n",
    "\n",
    "# 縦ベクトルの宣言\n",
    "y =np.array ([[6], [9]])\n",
    "\n",
    "# x,yの掛け算\n",
    "xy= np.dot(x,y)\n",
    "print(xy)"
   ]
  },
  {
   "cell_type": "markdown",
   "metadata": {},
   "source": [
    "---\n",
    "#### グラフ表示テスト\n",
    "---"
   ]
  },
  {
   "cell_type": "code",
   "execution_count": 1,
   "metadata": {},
   "outputs": [
    {
     "data": {
      "text/plain": [
       "<function matplotlib.pyplot.show(close=None, block=None)>"
      ]
     },
     "execution_count": 1,
     "metadata": {},
     "output_type": "execute_result"
    },
    {
     "data": {
      "image/png": "[encoded data removed]",
      "text/plain": [
       "<Figure size 432x288 with 1 Axes>"
      ]
     },
     "metadata": {
      "needs_background": "light"
     },
     "output_type": "display_data"
    }
   ],
   "source": [
    "import numpy as np\n",
    "import matplotlib.pyplot as plt\n",
    "\n",
    "# データ生成\n",
    "x=np.arange(0,10,1)\n",
    "y=x*2+3\n",
    "\n",
    "# プロット\n",
    "plt.plot(x,y)\n",
    "plt.show\n"
   ]
  },
  {
   "cell_type": "code",
   "execution_count": 1,
   "metadata": {},
   "outputs": [
    {
     "data": {
      "text/plain": [
       "<function matplotlib.pyplot.show(close=None, block=None)>"
      ]
     },
     "execution_count": 1,
     "metadata": {},
     "output_type": "execute_result"
    },
    {
     "data": {
      "image/png": "[encoded data removed]",
      "text/plain": [
       "<Figure size 432x288 with 1 Axes>"
      ]
     },
     "metadata": {
      "needs_background": "light"
     },
     "output_type": "display_data"
    }
   ],
   "source": [
    "import numpy as np\n",
    "import matplotlib.pyplot as plt\n",
    "\n",
    "# データ生成\n",
    "x=np.arange (-10,10,1)\n",
    "y=x*x\n",
    "\n",
    "# プロット\n",
    "plt.plot(x,y)\n",
    "plt.show"
   ]
  },
  {
   "cell_type": "markdown",
   "metadata": {},
   "source": [
    "---\n",
    "#### ファイル読み込みテスト\n",
    "---"
   ]
  },
  {
   "cell_type": "code",
   "execution_count": 1,
   "metadata": {
    "scrolled": true
   },
   "outputs": [
    {
     "data": {
      "text/html": [
       "<div>\n",
       "<style scoped>\n",
       "    .dataframe tbody tr th:only-of-type {\n",
       "        vertical-align: middle;\n",
       "    }\n",
       "\n",
       "    .dataframe tbody tr th {\n",
       "        vertical-align: top;\n",
       "    }\n",
       "\n",
       "    .dataframe thead th {\n",
       "        text-align: right;\n",
       "    }\n",
       "</style>\n",
       "<table border=\"1\" class=\"dataframe\">\n",
       "  <thead>\n",
       "    <tr style=\"text-align: right;\">\n",
       "      <th></th>\n",
       "      <th>犯罪率</th>\n",
       "      <th>住居区画の割合</th>\n",
       "      <th>商業の割合</th>\n",
       "      <th>川周辺か否か</th>\n",
       "      <th>窒素酸化物の濃度</th>\n",
       "      <th>部屋の広さ</th>\n",
       "      <th>建築年度</th>\n",
       "      <th>距離</th>\n",
       "      <th>高速道路へのアクセス</th>\n",
       "      <th>税金</th>\n",
       "      <th>児童、教師の割合</th>\n",
       "      <th>黒人比率</th>\n",
       "      <th>地位の低い職業の割合</th>\n",
       "      <th>家賃</th>\n",
       "    </tr>\n",
       "  </thead>\n",
       "  <tbody>\n",
       "    <tr>\n",
       "      <th>0</th>\n",
       "      <td>0.00632</td>\n",
       "      <td>18.0</td>\n",
       "      <td>2.31</td>\n",
       "      <td>0</td>\n",
       "      <td>0.538</td>\n",
       "      <td>6.575</td>\n",
       "      <td>65.2</td>\n",
       "      <td>4.0900</td>\n",
       "      <td>1</td>\n",
       "      <td>296</td>\n",
       "      <td>15.3</td>\n",
       "      <td>396.90</td>\n",
       "      <td>4.98</td>\n",
       "      <td>24.0</td>\n",
       "    </tr>\n",
       "    <tr>\n",
       "      <th>1</th>\n",
       "      <td>0.02731</td>\n",
       "      <td>0.0</td>\n",
       "      <td>7.07</td>\n",
       "      <td>0</td>\n",
       "      <td>0.469</td>\n",
       "      <td>6.421</td>\n",
       "      <td>78.9</td>\n",
       "      <td>4.9671</td>\n",
       "      <td>2</td>\n",
       "      <td>242</td>\n",
       "      <td>17.8</td>\n",
       "      <td>396.90</td>\n",
       "      <td>9.14</td>\n",
       "      <td>21.6</td>\n",
       "    </tr>\n",
       "    <tr>\n",
       "      <th>2</th>\n",
       "      <td>0.02729</td>\n",
       "      <td>0.0</td>\n",
       "      <td>7.07</td>\n",
       "      <td>0</td>\n",
       "      <td>0.469</td>\n",
       "      <td>7.185</td>\n",
       "      <td>61.1</td>\n",
       "      <td>4.9671</td>\n",
       "      <td>2</td>\n",
       "      <td>242</td>\n",
       "      <td>17.8</td>\n",
       "      <td>392.83</td>\n",
       "      <td>4.03</td>\n",
       "      <td>34.7</td>\n",
       "    </tr>\n",
       "    <tr>\n",
       "      <th>3</th>\n",
       "      <td>0.03237</td>\n",
       "      <td>0.0</td>\n",
       "      <td>2.18</td>\n",
       "      <td>0</td>\n",
       "      <td>0.458</td>\n",
       "      <td>6.998</td>\n",
       "      <td>45.8</td>\n",
       "      <td>6.0622</td>\n",
       "      <td>3</td>\n",
       "      <td>222</td>\n",
       "      <td>18.7</td>\n",
       "      <td>394.63</td>\n",
       "      <td>2.94</td>\n",
       "      <td>33.4</td>\n",
       "    </tr>\n",
       "    <tr>\n",
       "      <th>4</th>\n",
       "      <td>0.06905</td>\n",
       "      <td>0.0</td>\n",
       "      <td>2.18</td>\n",
       "      <td>0</td>\n",
       "      <td>0.458</td>\n",
       "      <td>7.147</td>\n",
       "      <td>54.2</td>\n",
       "      <td>6.0622</td>\n",
       "      <td>3</td>\n",
       "      <td>222</td>\n",
       "      <td>18.7</td>\n",
       "      <td>396.90</td>\n",
       "      <td>5.33</td>\n",
       "      <td>36.2</td>\n",
       "    </tr>\n",
       "  </tbody>\n",
       "</table>\n",
       "</div>"
      ],
      "text/plain": [
       "       犯罪率  住居区画の割合  商業の割合  川周辺か否か  窒素酸化物の濃度  部屋の広さ  建築年度      距離  高速道路へのアクセス  \\\n",
       "0  0.00632     18.0   2.31       0     0.538  6.575  65.2  4.0900           1   \n",
       "1  0.02731      0.0   7.07       0     0.469  6.421  78.9  4.9671           2   \n",
       "2  0.02729      0.0   7.07       0     0.469  7.185  61.1  4.9671           2   \n",
       "3  0.03237      0.0   2.18       0     0.458  6.998  45.8  6.0622           3   \n",
       "4  0.06905      0.0   2.18       0     0.458  7.147  54.2  6.0622           3   \n",
       "\n",
       "    税金  児童、教師の割合    黒人比率  地位の低い職業の割合    家賃  \n",
       "0  296      15.3  396.90        4.98  24.0  \n",
       "1  242      17.8  396.90        9.14  21.6  \n",
       "2  242      17.8  392.83        4.03  34.7  \n",
       "3  222      18.7  394.63        2.94  33.4  \n",
       "4  222      18.7  396.90        5.33  36.2  "
      ]
     },
     "execution_count": 1,
     "metadata": {},
     "output_type": "execute_result"
    }
   ],
   "source": [
    "from sklearn.linear_model import LinearRegression\n",
    "import pandas as pd\n",
    "import numpy as np\n",
    "import matplotlib.pyplot as plt\n",
    "\n",
    "# ファイル読み込み\n",
    "df = pd.read_csv('housing.csv',encoding=\"shift-jis\")\n",
    "\n",
    "# データ表示\n",
    "df.head()"
   ]
  },
  {
   "cell_type": "markdown",
   "metadata": {},
   "source": [
    "---\n",
    "#### 家賃予想\n",
    "---"
   ]
  },
  {
   "cell_type": "code",
   "execution_count": 1,
   "metadata": {},
   "outputs": [
    {
     "data": {
      "image/png": "[encoded data removed]",
      "text/plain": [
       "<Figure size 432x288 with 1 Axes>"
      ]
     },
     "metadata": {
      "needs_background": "light"
     },
     "output_type": "display_data"
    }
   ],
   "source": [
    "# 使用データのプロット\n",
    "from sklearn.linear_model import LinearRegression\n",
    "import pandas as pd\n",
    "import numpy as np\n",
    "import matplotlib.pyplot as plt\n",
    "\n",
    "# 警告無効\n",
    "import warnings\n",
    "warnings.filterwarnings('ignore')\n",
    "\n",
    "# ファイル読み込み\n",
    "df = pd.read_csv('housing.csv',encoding=\"shift-jis\")\n",
    "\n",
    "# 部屋の広さデータの格納\n",
    "x = df.iloc[:,5]\n",
    "\n",
    "# 家賃データの格納\n",
    "y = df.iloc[:,-1]\n",
    "\n",
    "# 行列に変換\n",
    "x = x.values.reshape(-1, 1)\n",
    "y = y.values.reshape(-1, 1)\n",
    "\n",
    "# LinearRegressionのインスタンス化\n",
    "model = LinearRegression()\n",
    "\n",
    "# プロット\n",
    "plt.scatter(x, y,label='正解',s=10)\n",
    "\n",
    "# 凡例の表示\n",
    "plt.legend()\n",
    "\n",
    "# プロット表示(設定の反映)\n",
    "plt.show()"
   ]
  },
  {
   "cell_type": "code",
   "execution_count": 1,
   "metadata": {},
   "outputs": [
    {
     "name": "stdout",
     "output_type": "stream",
     "text": [
      "0      6.575\n",
      "1      6.421\n",
      "2      7.185\n",
      "3      6.998\n",
      "4      7.147\n",
      "       ...  \n",
      "447    6.593\n",
      "448    6.120\n",
      "449    6.976\n",
      "450    6.794\n",
      "451    6.030\n",
      "Name: 部屋の広さ, Length: 452, dtype: float64\n",
      "[[9.77787061]]\n",
      "予測結果:\n",
      "x(部屋の広さ): [[15]]\n",
      "y(家賃): [[108.39221167]]\n",
      "0.5478676239294913\n"
     ]
    },
    {
     "data": {
      "image/png": "[encoded data removed]",
      "text/plain": [
       "<Figure size 432x288 with 1 Axes>"
      ]
     },
     "metadata": {
      "needs_background": "light"
     },
     "output_type": "display_data"
    }
   ],
   "source": [
    "from sklearn.linear_model import LinearRegression\n",
    "import pandas as pd\n",
    "import numpy as np\n",
    "import matplotlib.pyplot as plt\n",
    "\n",
    "# 警告無効\n",
    "import warnings\n",
    "warnings.filterwarnings('ignore')\n",
    "\n",
    "# ファイル読み込み\n",
    "df = pd.read_csv('housing.csv',encoding=\"shift-jis\")\n",
    "\n",
    "# 部屋の広さデータの格納\n",
    "x = df.iloc[:,5]\n",
    "\n",
    "# 家賃データの格納\n",
    "y = df.iloc[:,-1]\n",
    "print(x)\n",
    "\n",
    "# 行列に変換\n",
    "x = x.values.reshape(-1, 1)\n",
    "y = y.values.reshape(-1, 1)\n",
    "\n",
    "# LinearRegressionのインスタンス化\n",
    "model = LinearRegression()\n",
    "\n",
    "# 学習開始\n",
    "model.fit(x, y)\n",
    "\n",
    "# 重み付け\n",
    "a = model.coef_\n",
    "print(a)\n",
    "\n",
    "# 予測モデルを使って家賃を予測\n",
    "source = [[15]]\n",
    "predicted = model.predict(source)\n",
    "print('予測結果:')\n",
    "print('x(部屋の広さ):', source)\n",
    "print('y(家賃):', predicted)\n",
    "\n",
    "# 精度の確認\n",
    "print(model.score(x,y))\n",
    "\n",
    "# データ生成\n",
    "x_test = np.arange(2,10, 0.1)\n",
    "x_test = x_test.reshape(-1,1)\n",
    "y_pred = model.predict(x_test)\n",
    "\n",
    "# プロット\n",
    "plt.scatter(x, y,label='正解',s=10)\n",
    "plt.plot(x_test, y_pred,label='予測',linewidth = 3,color='red')\n",
    "\n",
    "# 凡例の表示\n",
    "plt.legend()\n",
    "\n",
    "# プロット表示(設定の反映)\n",
    "plt.show()"
   ]
  },
  {
   "cell_type": "markdown",
   "metadata": {},
   "source": [
    "---\n",
    "#### 演習：重回帰分析に修正\n",
    "---"
   ]
  },
  {
   "cell_type": "code",
   "execution_count": 1,
   "metadata": {
    "scrolled": true
   },
   "outputs": [
    {
     "name": "stdout",
     "output_type": "stream",
     "text": [
      "         犯罪率  住居区画の割合  商業の割合  川周辺か否か  窒素酸化物の濃度  部屋の広さ  建築年度      距離  \\\n",
      "0    0.00632     18.0   2.31       0     0.538  6.575  65.2  4.0900   \n",
      "1    0.02731      0.0   7.07       0     0.469  6.421  78.9  4.9671   \n",
      "2    0.02729      0.0   7.07       0     0.469  7.185  61.1  4.9671   \n",
      "3    0.03237      0.0   2.18       0     0.458  6.998  45.8  6.0622   \n",
      "4    0.06905      0.0   2.18       0     0.458  7.147  54.2  6.0622   \n",
      "..       ...      ...    ...     ...       ...    ...   ...     ...   \n",
      "447  0.06263      0.0  11.93       0     0.573  6.593  69.1  2.4786   \n",
      "448  0.04527      0.0  11.93       0     0.573  6.120  76.7  2.2875   \n",
      "449  0.06076      0.0  11.93       0     0.573  6.976  91.0  2.1675   \n",
      "450  0.10959      0.0  11.93       0     0.573  6.794  89.3  2.3889   \n",
      "451  0.04741      0.0  11.93       0     0.573  6.030  80.8  2.5050   \n",
      "\n",
      "     高速道路へのアクセス   税金  児童、教師の割合    黒人比率  地位の低い職業の割合  \n",
      "0             1  296      15.3  396.90        4.98  \n",
      "1             2  242      17.8  396.90        9.14  \n",
      "2             2  242      17.8  392.83        4.03  \n",
      "3             3  222      18.7  394.63        2.94  \n",
      "4             3  222      18.7  396.90        5.33  \n",
      "..          ...  ...       ...     ...         ...  \n",
      "447           1  273      21.0  391.99        9.67  \n",
      "448           1  273      21.0  396.90        9.08  \n",
      "449           1  273      21.0  396.90        5.64  \n",
      "450           1  273      21.0  393.45        6.48  \n",
      "451           1  273      21.0  396.90        7.88  \n",
      "\n",
      "[452 rows x 13 columns]\n",
      "[[ -0.24   0.04   0.05   2.44 -11.66   5.11  -0.01  -1.27   0.29  -0.01\n",
      "   -0.83   0.01  -0.52]]\n",
      "予測結果:\n",
      "x(部屋の広さ): [[  0.01  18.     2.31   0.     0.54   6.58  65.2    4.09   1.   296.\n",
      "   15.3  396.9    4.98]]\n",
      "y(家賃): [[29.91]]\n",
      "0.7405243172971453\n"
     ]
    }
   ],
   "source": [
    "from sklearn.linear_model import LinearRegression\n",
    "import pandas as pd\n",
    "import numpy as np\n",
    "import matplotlib.pyplot as plt\n",
    "\n",
    "# ファイル読み込み\n",
    "df = pd.read_csv('housing.csv',encoding=\"shift-jis\")\n",
    "\n",
    "# 部屋の広さデータの格納\n",
    "# :全件\n",
    "x = df.iloc[:,:-1]\n",
    "\n",
    "# 家賃データの格納\n",
    "y = df.iloc[:,-1]\n",
    "print(x)\n",
    "\n",
    "# 行列に変換\n",
    "x = x.values.reshape(-1, 13)\n",
    "y = y.values.reshape(-1, 1)\n",
    "\n",
    "# LinearRegressionのインスタンス化\n",
    "model = LinearRegression()\n",
    "\n",
    "# 学習開始\n",
    "model.fit(x, y)\n",
    "\n",
    "# 重み付け\n",
    "a = model.coef_\n",
    "\n",
    "# 出力値制限後、重み出力\n",
    "np.set_printoptions(precision=2, suppress=True)\n",
    "print(a)\n",
    "\n",
    "# 予測モデルを使って家賃を予測\n",
    "# :全件(省略可能)　source = x[0:2](２件取り出し)\n",
    "source = x[0:1,:]\n",
    "predicted = model.predict(source)\n",
    "print('予測結果:')\n",
    "print('x(部屋の広さ):', source)\n",
    "print('y(家賃):', predicted)\n",
    "\n",
    "# 精度の確認\n",
    "print(model.score(x,y))\n"
   ]
  },
  {
   "cell_type": "markdown",
   "metadata": {},
   "source": [
    "---\n",
    "#### 演習：線形回帰→ニューラルネットワークに修正\n",
    "---"
   ]
  },
  {
   "cell_type": "code",
   "execution_count": 1,
   "metadata": {},
   "outputs": [
    {
     "name": "stdout",
     "output_type": "stream",
     "text": [
      "0      6.575\n",
      "1      6.421\n",
      "2      7.185\n",
      "3      6.998\n",
      "4      7.147\n",
      "       ...  \n",
      "447    6.593\n",
      "448    6.120\n",
      "449    6.976\n",
      "450    6.794\n",
      "451    6.030\n",
      "Name: 部屋の広さ, Length: 452, dtype: float64\n",
      "予測結果:\n",
      "x(部屋の広さ): [[15]]\n",
      "y(家賃): [53.89360234]\n",
      "0.31758901513122095\n"
     ]
    },
    {
     "data": {
      "image/png": "[encoded data removed]",
      "text/plain": [
       "<Figure size 432x288 with 1 Axes>"
      ]
     },
     "metadata": {
      "needs_background": "light"
     },
     "output_type": "display_data"
    }
   ],
   "source": [
    "from sklearn.linear_model import LinearRegression\n",
    "import pandas as pd\n",
    "import numpy as np\n",
    "import matplotlib.pyplot as plt\n",
    "from sklearn.neural_network import MLPRegressor\n",
    "\n",
    "# 警告無効\n",
    "import warnings\n",
    "warnings.filterwarnings('ignore')\n",
    "\n",
    "# ファイル読み込み\n",
    "df = pd.read_csv('housing.csv',encoding=\"shift-jis\")\n",
    "\n",
    "# 部屋の広さデータの格納\n",
    "x = df.iloc[:,5]\n",
    "\n",
    "# 家賃データの格納\n",
    "y = df.iloc[:,-1]\n",
    "print(x)\n",
    "\n",
    "# 行列に変換\n",
    "x = x.values.reshape(-1, 1)\n",
    "y = y.values.reshape(-1, 1)\n",
    "\n",
    "# MLPRegressornのインスタンス化\n",
    "model = MLPRegressor()\n",
    "\n",
    "# 学習開始\n",
    "model.fit(x, y)\n",
    "\n",
    "# 予測モデルを使って家賃を予測\n",
    "source = [[15]]\n",
    "predicted = model.predict(source)\n",
    "print('予測結果:')\n",
    "print('x(部屋の広さ):', source)\n",
    "print('y(家賃):', predicted)\n",
    "\n",
    "# 精度の確認\n",
    "print(model.score(x,y))\n",
    "\n",
    "# データ生成\n",
    "x_test = np.arange(2,10, 0.1)\n",
    "x_test = x_test.reshape(-1,1)\n",
    "y_pred = model.predict(x_test)\n",
    "\n",
    "# プロット\n",
    "plt.scatter(x, y,label='正解',s=10)\n",
    "plt.plot(x_test, y_pred,label='予測',linewidth = 3,color='red')\n",
    "\n",
    "# 凡例の表示\n",
    "plt.legend()\n",
    "\n",
    "# プロット表示(設定の反映)\n",
    "plt.show()"
   ]
  }
 ],
 "metadata": {
  "kernelspec": {
   "display_name": "Python 3",
   "language": "python",
   "name": "python3"
  },
  "language_info": {
   "codemirror_mode": {
    "name": "ipython",
    "version": 3
   },
   "file_extension": ".py",
   "mimetype": "text/x-python",
   "name": "python",
   "nbconvert_exporter": "python",
   "pygments_lexer": "ipython3",
   "version": "3.8.3"
  }
 },
 "nbformat": 4,
 "nbformat_minor": 4
}
