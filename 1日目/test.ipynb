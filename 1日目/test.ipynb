{
  "nbformat": 4,
  "nbformat_minor": 0,
  "metadata": {
    "kernelspec": {
      "display_name": "Python 3",
      "language": "python",
      "name": "python3"
    },
    "language_info": {
      "codemirror_mode": {
        "name": "ipython",
        "version": 3
      },
      "file_extension": ".py",
      "mimetype": "text/x-python",
      "name": "python",
      "nbconvert_exporter": "python",
      "pygments_lexer": "ipython3",
      "version": "3.8.3"
    },
    "colab": {
      "name": "test.ipynb",
      "provenance": [],
      "collapsed_sections": [],
      "toc_visible": true,
      "include_colab_link": true
    }
  },
  "cells": [
    {
      "cell_type": "markdown",
      "metadata": {
        "id": "view-in-github",
        "colab_type": "text"
      },
      "source": [
        "<a href=\"https://colab.research.google.com/github/little-hoge/PythonAI/blob/main/1%E6%97%A5%E7%9B%AE/test.ipynb\" target=\"_parent\"><img src=\"https://colab.research.google.com/assets/colab-badge.svg\" alt=\"Open In Colab\"/></a>"
      ]
    },
    {
      "cell_type": "markdown",
      "metadata": {
        "id": "jc30MZSK4x_o"
      },
      "source": [
        "---\n",
        "## １章～２章\n",
        "---"
      ]
    },
    {
      "cell_type": "markdown",
      "metadata": {
        "id": "_bp-bvCB4x_w"
      },
      "source": [
        "---\n",
        "#### Python基本構文テスト\n",
        "---"
      ]
    },
    {
      "cell_type": "code",
      "metadata": {
        "colab": {
          "base_uri": "https://localhost:8080/"
        },
        "id": "ZarlMn7A4x_x",
        "outputId": "d26e1c7b-eb57-4588-ecf3-f5ddf48cb21b"
      },
      "source": [
        "# str型変数宣言\n",
        "name=\"田中\"\n",
        "print(name)\n",
        "\n",
        "# int型変数宣言\n",
        "age=24\n",
        "print(age)\n",
        "\n",
        "# リスト型宣言\n",
        "names=[\"田中\",\"佐藤\",\"加藤\"]\n",
        "print(names)\n",
        "\n",
        "# リスト更新\n",
        "names.append(\"鈴木\")\n",
        "names.remove(\"加藤\")\n",
        "print(names)\n",
        "\n",
        "# 各要素の出力\n",
        "print(names[0],names[1],names[2])"
      ],
      "execution_count": null,
      "outputs": [
        {
          "output_type": "stream",
          "text": [
            "田中\n",
            "24\n",
            "['田中', '佐藤', '加藤']\n",
            "['田中', '佐藤', '鈴木']\n",
            "田中 佐藤 鈴木\n"
          ],
          "name": "stdout"
        }
      ]
    },
    {
      "cell_type": "code",
      "metadata": {
        "colab": {
          "base_uri": "https://localhost:8080/"
        },
        "id": "qO8SHQpq4x_y",
        "outputId": "f60dd3e4-4f79-4773-c887-13806605999f"
      },
      "source": [
        "# リスト型変数宣言\n",
        "addresses={\"鈴木\":\"神田\",\"佐藤\":\"東京\",\"田中\":\"新宿\"}\n",
        "print(addresses)\n",
        "\n",
        "# リスト型変数更新\n",
        "addresses[\"佐藤\"]= \"渋谷\"\n",
        "print(addresses)\n",
        "\n",
        "# 各要素を出力\n",
        "print(\"鈴木：\",addresses[\"鈴木\"])\n",
        "print(\"佐藤：\",addresses[\"佐藤\"])\n",
        "print(\"田中：\",addresses[\"田中\"])"
      ],
      "execution_count": null,
      "outputs": [
        {
          "output_type": "stream",
          "text": [
            "{'鈴木': '神田', '佐藤': '東京', '田中': '新宿'}\n",
            "{'鈴木': '神田', '佐藤': '渋谷', '田中': '新宿'}\n",
            "鈴木： 神田\n",
            "佐藤： 渋谷\n",
            "田中： 新宿\n"
          ],
          "name": "stdout"
        }
      ]
    },
    {
      "cell_type": "code",
      "metadata": {
        "colab": {
          "base_uri": "https://localhost:8080/"
        },
        "id": "TkXemDBn4x_y",
        "outputId": "aa7b461e-a385-48b4-c270-f132145ac1d0"
      },
      "source": [
        "# リスト型変数 stations の宣言\n",
        "stations=(\"神田\",\"東京\",\"新宿\")\n",
        "print(stations)\n",
        "\n",
        "# 各要素の出力\n",
        "print(\"stations[0]:\",stations[0])\n",
        "print(\"stations[1]:\",stations[1])\n",
        "print(\"stations[2]:\",stations[2])"
      ],
      "execution_count": null,
      "outputs": [
        {
          "output_type": "stream",
          "text": [
            "('神田', '東京', '新宿')\n",
            "stations[0]: 神田\n",
            "stations[1]: 東京\n",
            "stations[2]: 新宿\n"
          ],
          "name": "stdout"
        }
      ]
    },
    {
      "cell_type": "markdown",
      "metadata": {
        "id": "ymwTmPQF4x_z"
      },
      "source": [
        "---\n",
        "#### ライブラリのインポートテスト(NumPy)\n",
        "---"
      ]
    },
    {
      "cell_type": "code",
      "metadata": {
        "colab": {
          "base_uri": "https://localhost:8080/"
        },
        "id": "qVZm8_MU4x_z",
        "outputId": "b4d3bd2b-b018-4928-94fb-7b4e369dcabe"
      },
      "source": [
        "import numpy as np\n",
        "\n",
        "# 横ベクトルの宣言\n",
        "x =np.array ([[1,3]])\n",
        "\n",
        "# 縦ベクトルの宣言\n",
        "y =np.array ([[6], [9]])\n",
        "\n",
        "# x,yの掛け算\n",
        "xy= np.dot(x,y)\n",
        "print(xy)"
      ],
      "execution_count": null,
      "outputs": [
        {
          "output_type": "stream",
          "text": [
            "[[33]]\n"
          ],
          "name": "stdout"
        }
      ]
    },
    {
      "cell_type": "code",
      "metadata": {
        "colab": {
          "base_uri": "https://localhost:8080/"
        },
        "id": "ERJUGr974x_z",
        "outputId": "cb1261a1-c4b6-4fba-bc02-c77cedaee94b"
      },
      "source": [
        "import numpy as np\n",
        "\n",
        "# 横ベクトルの宣言\n",
        "x =np.array ([[1,3],[1,3]])\n",
        "\n",
        "# 縦ベクトルの宣言\n",
        "y =np.array ([[6], [9]])\n",
        "\n",
        "# x,yの掛け算\n",
        "xy= np.dot(x,y)\n",
        "print(xy)"
      ],
      "execution_count": null,
      "outputs": [
        {
          "output_type": "stream",
          "text": [
            "[[33]\n",
            " [33]]\n"
          ],
          "name": "stdout"
        }
      ]
    },
    {
      "cell_type": "markdown",
      "metadata": {
        "id": "R4eNlPmE4x_0"
      },
      "source": [
        "---\n",
        "#### グラフ表示テスト\n",
        "---"
      ]
    },
    {
      "cell_type": "code",
      "metadata": {
        "colab": {
          "base_uri": "https://localhost:8080/",
          "height": 282
        },
        "id": "8haYmNm54x_0",
        "outputId": "85b47530-99e7-4d6b-da5a-245f7382b957"
      },
      "source": [
        "import numpy as np\n",
        "import matplotlib.pyplot as plt\n",
        "\n",
        "# データ生成\n",
        "x=np.arange(0,10,1)\n",
        "y=x*2+3\n",
        "\n",
        "# プロット\n",
        "plt.plot(x,y)\n",
        "plt.show\n"
      ],
      "execution_count": null,
      "outputs": [
        {
          "output_type": "execute_result",
          "data": {
            "text/plain": [
              "<function matplotlib.pyplot.show>"
            ]
          },
          "metadata": {
            "tags": []
          },
          "execution_count": 6
        },
        {
          "output_type": "display_data",
          "data": {
            "image/png": "[encoded data removed]",
            "text/plain": [
              "<Figure size 432x288 with 1 Axes>"
            ]
          },
          "metadata": {
            "tags": [],
            "needs_background": "light"
          }
        }
      ]
    },
    {
      "cell_type": "code",
      "metadata": {
        "colab": {
          "base_uri": "https://localhost:8080/",
          "height": 282
        },
        "id": "JFpXHnla4x_1",
        "outputId": "1fadc7fd-f42e-4923-86c3-ece38a872522"
      },
      "source": [
        "import numpy as np\n",
        "import matplotlib.pyplot as plt\n",
        "\n",
        "# データ生成\n",
        "x=np.arange (-10,10,1)\n",
        "y=x*x\n",
        "\n",
        "# プロット\n",
        "plt.plot(x,y)\n",
        "plt.show"
      ],
      "execution_count": null,
      "outputs": [
        {
          "output_type": "execute_result",
          "data": {
            "text/plain": [
              "<function matplotlib.pyplot.show>"
            ]
          },
          "metadata": {
            "tags": []
          },
          "execution_count": 7
        },
        {
          "output_type": "display_data",
          "data": {
            "image/png": "[encoded data removed]",
            "text/plain": [
              "<Figure size 432x288 with 1 Axes>"
            ]
          },
          "metadata": {
            "tags": [],
            "needs_background": "light"
          }
        }
      ]
    },
    {
      "cell_type": "markdown",
      "metadata": {
        "id": "f8PLWova84_D"
      },
      "source": [
        "---\r\n",
        "#### ファイルパス設定\r\n",
        "---"
      ]
    },
    {
      "cell_type": "code",
      "metadata": {
        "scrolled": true,
        "colab": {
          "base_uri": "https://localhost:8080/"
        },
        "id": "RdzSHebu8maq",
        "outputId": "930595e6-3fa0-425e-c690-8ff16e8ca9dc"
      },
      "source": [
        "# ファイル読み込み\n",
        "from google.colab import drive \n",
        "drive.mount('/content/drive')\n",
        "%cd \"/content/drive/My Drive/Colab Notebooks/１日目\""
      ],
      "execution_count": null,
      "outputs": [
        {
          "output_type": "stream",
          "text": [
            "Drive already mounted at /content/drive; to attempt to forcibly remount, call drive.mount(\"/content/drive\", force_remount=True).\n",
            "/content/drive/My Drive/Colab Notebooks/１日目\n"
          ],
          "name": "stdout"
        }
      ]
    },
    {
      "cell_type": "markdown",
      "metadata": {
        "id": "HtKTff2U4x_1"
      },
      "source": [
        "---\n",
        "#### ファイル読み込みテスト\n",
        "---"
      ]
    },
    {
      "cell_type": "code",
      "metadata": {
        "scrolled": true,
        "colab": {
          "base_uri": "https://localhost:8080/",
          "height": 197
        },
        "id": "gC-ZEVz24x_1",
        "outputId": "32d0170a-6651-4c1a-af98-8758c0acb337"
      },
      "source": [
        "from sklearn.linear_model import LinearRegression\n",
        "import pandas as pd\n",
        "import numpy as np\n",
        "import matplotlib.pyplot as plt\n",
        "\n",
        "# ファイル読み込み\n",
        "df = pd.read_csv('housing.csv',encoding=\"shift-jis\")\n",
        "\n",
        "# データ表示\n",
        "df.head()"
      ],
      "execution_count": null,
      "outputs": [
        {
          "output_type": "execute_result",
          "data": {
            "text/html": [
              "<div>\n",
              "<style scoped>\n",
              "    .dataframe tbody tr th:only-of-type {\n",
              "        vertical-align: middle;\n",
              "    }\n",
              "\n",
              "    .dataframe tbody tr th {\n",
              "        vertical-align: top;\n",
              "    }\n",
              "\n",
              "    .dataframe thead th {\n",
              "        text-align: right;\n",
              "    }\n",
              "</style>\n",
              "<table border=\"1\" class=\"dataframe\">\n",
              "  <thead>\n",
              "    <tr style=\"text-align: right;\">\n",
              "      <th></th>\n",
              "      <th>犯罪率</th>\n",
              "      <th>住居区画の割合</th>\n",
              "      <th>商業の割合</th>\n",
              "      <th>川周辺か否か</th>\n",
              "      <th>窒素酸化物の濃度</th>\n",
              "      <th>部屋の広さ</th>\n",
              "      <th>建築年度</th>\n",
              "      <th>距離</th>\n",
              "      <th>高速道路へのアクセス</th>\n",
              "      <th>税金</th>\n",
              "      <th>児童、教師の割合</th>\n",
              "      <th>黒人比率</th>\n",
              "      <th>地位の低い職業の割合</th>\n",
              "      <th>家賃</th>\n",
              "    </tr>\n",
              "  </thead>\n",
              "  <tbody>\n",
              "    <tr>\n",
              "      <th>0</th>\n",
              "      <td>0.00632</td>\n",
              "      <td>18.0</td>\n",
              "      <td>2.31</td>\n",
              "      <td>0</td>\n",
              "      <td>0.538</td>\n",
              "      <td>6.575</td>\n",
              "      <td>65.2</td>\n",
              "      <td>4.0900</td>\n",
              "      <td>1</td>\n",
              "      <td>296</td>\n",
              "      <td>15.3</td>\n",
              "      <td>396.90</td>\n",
              "      <td>4.98</td>\n",
              "      <td>24.0</td>\n",
              "    </tr>\n",
              "    <tr>\n",
              "      <th>1</th>\n",
              "      <td>0.02731</td>\n",
              "      <td>0.0</td>\n",
              "      <td>7.07</td>\n",
              "      <td>0</td>\n",
              "      <td>0.469</td>\n",
              "      <td>6.421</td>\n",
              "      <td>78.9</td>\n",
              "      <td>4.9671</td>\n",
              "      <td>2</td>\n",
              "      <td>242</td>\n",
              "      <td>17.8</td>\n",
              "      <td>396.90</td>\n",
              "      <td>9.14</td>\n",
              "      <td>21.6</td>\n",
              "    </tr>\n",
              "    <tr>\n",
              "      <th>2</th>\n",
              "      <td>0.02729</td>\n",
              "      <td>0.0</td>\n",
              "      <td>7.07</td>\n",
              "      <td>0</td>\n",
              "      <td>0.469</td>\n",
              "      <td>7.185</td>\n",
              "      <td>61.1</td>\n",
              "      <td>4.9671</td>\n",
              "      <td>2</td>\n",
              "      <td>242</td>\n",
              "      <td>17.8</td>\n",
              "      <td>392.83</td>\n",
              "      <td>4.03</td>\n",
              "      <td>34.7</td>\n",
              "    </tr>\n",
              "    <tr>\n",
              "      <th>3</th>\n",
              "      <td>0.03237</td>\n",
              "      <td>0.0</td>\n",
              "      <td>2.18</td>\n",
              "      <td>0</td>\n",
              "      <td>0.458</td>\n",
              "      <td>6.998</td>\n",
              "      <td>45.8</td>\n",
              "      <td>6.0622</td>\n",
              "      <td>3</td>\n",
              "      <td>222</td>\n",
              "      <td>18.7</td>\n",
              "      <td>394.63</td>\n",
              "      <td>2.94</td>\n",
              "      <td>33.4</td>\n",
              "    </tr>\n",
              "    <tr>\n",
              "      <th>4</th>\n",
              "      <td>0.06905</td>\n",
              "      <td>0.0</td>\n",
              "      <td>2.18</td>\n",
              "      <td>0</td>\n",
              "      <td>0.458</td>\n",
              "      <td>7.147</td>\n",
              "      <td>54.2</td>\n",
              "      <td>6.0622</td>\n",
              "      <td>3</td>\n",
              "      <td>222</td>\n",
              "      <td>18.7</td>\n",
              "      <td>396.90</td>\n",
              "      <td>5.33</td>\n",
              "      <td>36.2</td>\n",
              "    </tr>\n",
              "  </tbody>\n",
              "</table>\n",
              "</div>"
            ],
            "text/plain": [
              "       犯罪率  住居区画の割合  商業の割合  川周辺か否か  ...  児童、教師の割合    黒人比率  地位の低い職業の割合    家賃\n",
              "0  0.00632     18.0   2.31       0  ...      15.3  396.90        4.98  24.0\n",
              "1  0.02731      0.0   7.07       0  ...      17.8  396.90        9.14  21.6\n",
              "2  0.02729      0.0   7.07       0  ...      17.8  392.83        4.03  34.7\n",
              "3  0.03237      0.0   2.18       0  ...      18.7  394.63        2.94  33.4\n",
              "4  0.06905      0.0   2.18       0  ...      18.7  396.90        5.33  36.2\n",
              "\n",
              "[5 rows x 14 columns]"
            ]
          },
          "metadata": {
            "tags": []
          },
          "execution_count": 9
        }
      ]
    },
    {
      "cell_type": "markdown",
      "metadata": {
        "id": "lA6k_Oa54x_2"
      },
      "source": [
        "---\n",
        "#### 家賃予想\n",
        "---"
      ]
    },
    {
      "cell_type": "code",
      "metadata": {
        "colab": {
          "base_uri": "https://localhost:8080/",
          "height": 264
        },
        "id": "RCc1TgJL4x_2",
        "outputId": "6f67fd57-5210-4bda-e636-3dd335eed1e8"
      },
      "source": [
        "# 使用データのプロット\n",
        "from sklearn.linear_model import LinearRegression\n",
        "import pandas as pd\n",
        "import numpy as np\n",
        "import matplotlib.pyplot as plt\n",
        "\n",
        "# 警告無効\n",
        "import warnings\n",
        "warnings.filterwarnings('ignore')\n",
        "\n",
        "# ファイル読み込み\n",
        "df = pd.read_csv('housing.csv',encoding=\"shift-jis\")\n",
        "\n",
        "# 部屋の広さデータの格納\n",
        "x = df.iloc[:,5]\n",
        "\n",
        "# 家賃データの格納\n",
        "y = df.iloc[:,-1]\n",
        "\n",
        "# 行列に変換\n",
        "x = x.values.reshape(-1, 1)\n",
        "y = y.values.reshape(-1, 1)\n",
        "\n",
        "# LinearRegressionのインスタンス化\n",
        "model = LinearRegression()\n",
        "\n",
        "# プロット\n",
        "plt.scatter(x, y,label='正解',s=10)\n",
        "\n",
        "# 凡例の表示\n",
        "plt.legend()\n",
        "\n",
        "# プロット表示(設定の反映)\n",
        "plt.show()"
      ],
      "execution_count": null,
      "outputs": [
        {
          "output_type": "display_data",
          "data": {
            "image/png": "[encoded data removed]",
            "text/plain": [
              "<Figure size 432x288 with 1 Axes>"
            ]
          },
          "metadata": {
            "tags": [],
            "needs_background": "light"
          }
        }
      ]
    },
    {
      "cell_type": "code",
      "metadata": {
        "colab": {
          "base_uri": "https://localhost:8080/",
          "height": 566
        },
        "id": "ZL9WRZ834x_2",
        "outputId": "57521ff9-cc6d-47d5-ed3b-67c05488f1ab"
      },
      "source": [
        "from sklearn.linear_model import LinearRegression\n",
        "import pandas as pd\n",
        "import numpy as np\n",
        "import matplotlib.pyplot as plt\n",
        "\n",
        "# 警告無効\n",
        "import warnings\n",
        "warnings.filterwarnings('ignore')\n",
        "\n",
        "# ファイル読み込み\n",
        "df = pd.read_csv('housing.csv',encoding=\"shift-jis\")\n",
        "\n",
        "# 部屋の広さデータの格納\n",
        "x = df.iloc[:,5]\n",
        "\n",
        "# 家賃データの格納\n",
        "y = df.iloc[:,-1]\n",
        "print(x)\n",
        "\n",
        "# 行列に変換\n",
        "x = x.values.reshape(-1, 1)\n",
        "y = y.values.reshape(-1, 1)\n",
        "\n",
        "# LinearRegressionのインスタンス化\n",
        "model = LinearRegression()\n",
        "\n",
        "# 学習開始\n",
        "model.fit(x, y)\n",
        "\n",
        "# 重み付け\n",
        "a = model.coef_\n",
        "print(a)\n",
        "\n",
        "# 予測モデルを使って家賃を予測\n",
        "source = [[15]]\n",
        "predicted = model.predict(source)\n",
        "print('予測結果:')\n",
        "print('x(部屋の広さ):', source)\n",
        "print('y(家賃):', predicted)\n",
        "\n",
        "# 精度の確認\n",
        "print(model.score(x,y))\n",
        "\n",
        "# データ生成\n",
        "x_test = np.arange(2,10, 0.1)\n",
        "x_test = x_test.reshape(-1,1)\n",
        "y_pred = model.predict(x_test)\n",
        "\n",
        "# プロット\n",
        "plt.scatter(x, y,label='正解',s=10)\n",
        "plt.plot(x_test, y_pred,label='予測',linewidth = 3,color='red')\n",
        "\n",
        "# 凡例の表示\n",
        "plt.legend()\n",
        "\n",
        "# プロット表示(設定の反映)\n",
        "plt.show()"
      ],
      "execution_count": null,
      "outputs": [
        {
          "output_type": "stream",
          "text": [
            "0      6.575\n",
            "1      6.421\n",
            "2      7.185\n",
            "3      6.998\n",
            "4      7.147\n",
            "       ...  \n",
            "447    6.593\n",
            "448    6.120\n",
            "449    6.976\n",
            "450    6.794\n",
            "451    6.030\n",
            "Name: 部屋の広さ, Length: 452, dtype: float64\n",
            "[[9.77787061]]\n",
            "予測結果:\n",
            "x(部屋の広さ): [[15]]\n",
            "y(家賃): [[108.39221167]]\n",
            "0.5478676239294913\n"
          ],
          "name": "stdout"
        },
        {
          "output_type": "display_data",
          "data": {
            "image/png": "[encoded data removed]",
            "text/plain": [
              "<Figure size 432x288 with 1 Axes>"
            ]
          },
          "metadata": {
            "tags": [],
            "needs_background": "light"
          }
        }
      ]
    },
    {
      "cell_type": "markdown",
      "metadata": {
        "id": "XbgHvnsF4x_3"
      },
      "source": [
        "---\n",
        "#### 演習：重回帰分析に修正\n",
        "---"
      ]
    },
    {
      "cell_type": "code",
      "metadata": {
        "scrolled": true,
        "colab": {
          "base_uri": "https://localhost:8080/"
        },
        "id": "ZqfJV2Cv4x_3",
        "outputId": "e3b0af78-4617-4665-d722-c712e9bb4be5"
      },
      "source": [
        "from sklearn.linear_model import LinearRegression\n",
        "import pandas as pd\n",
        "import numpy as np\n",
        "import matplotlib.pyplot as plt\n",
        "\n",
        "# ファイル読み込み\n",
        "df = pd.read_csv('housing.csv',encoding=\"shift-jis\")\n",
        "\n",
        "# 部屋の広さデータの格納\n",
        "# :全件\n",
        "x = df.iloc[:,:-1]\n",
        "\n",
        "# 家賃データの格納\n",
        "y = df.iloc[:,-1]\n",
        "print(x)\n",
        "\n",
        "# 行列に変換\n",
        "x = x.values.reshape(-1, 13)\n",
        "y = y.values.reshape(-1, 1)\n",
        "\n",
        "# LinearRegressionのインスタンス化\n",
        "model = LinearRegression()\n",
        "\n",
        "# 学習開始\n",
        "model.fit(x, y)\n",
        "\n",
        "# 重み付け\n",
        "a = model.coef_\n",
        "\n",
        "# 出力値制限後、重み出力\n",
        "np.set_printoptions(precision=2, suppress=True)\n",
        "print(a)\n",
        "\n",
        "# 予測モデルを使って家賃を予測\n",
        "# :全件(省略可能)　source = x[0:2](２件取り出し)\n",
        "source = x[0:1,:]\n",
        "predicted = model.predict(source)\n",
        "print('予測結果:')\n",
        "print('x(部屋の広さ):', source)\n",
        "print('y(家賃):', predicted)\n",
        "\n",
        "# 精度の確認\n",
        "print(model.score(x,y))\n"
      ],
      "execution_count": null,
      "outputs": [
        {
          "output_type": "stream",
          "text": [
            "         犯罪率  住居区画の割合  商業の割合  川周辺か否か  ...   税金  児童、教師の割合    黒人比率  地位の低い職業の割合\n",
            "0    0.00632     18.0   2.31       0  ...  296      15.3  396.90        4.98\n",
            "1    0.02731      0.0   7.07       0  ...  242      17.8  396.90        9.14\n",
            "2    0.02729      0.0   7.07       0  ...  242      17.8  392.83        4.03\n",
            "3    0.03237      0.0   2.18       0  ...  222      18.7  394.63        2.94\n",
            "4    0.06905      0.0   2.18       0  ...  222      18.7  396.90        5.33\n",
            "..       ...      ...    ...     ...  ...  ...       ...     ...         ...\n",
            "447  0.06263      0.0  11.93       0  ...  273      21.0  391.99        9.67\n",
            "448  0.04527      0.0  11.93       0  ...  273      21.0  396.90        9.08\n",
            "449  0.06076      0.0  11.93       0  ...  273      21.0  396.90        5.64\n",
            "450  0.10959      0.0  11.93       0  ...  273      21.0  393.45        6.48\n",
            "451  0.04741      0.0  11.93       0  ...  273      21.0  396.90        7.88\n",
            "\n",
            "[452 rows x 13 columns]\n",
            "[[ -0.24   0.04   0.05   2.44 -11.66   5.11  -0.01  -1.27   0.29  -0.01\n",
            "   -0.83   0.01  -0.52]]\n",
            "予測結果:\n",
            "x(部屋の広さ): [[  0.01  18.     2.31   0.     0.54   6.58  65.2    4.09   1.   296.\n",
            "   15.3  396.9    4.98]]\n",
            "y(家賃): [[29.91]]\n",
            "0.7405243172971452\n"
          ],
          "name": "stdout"
        }
      ]
    },
    {
      "cell_type": "markdown",
      "metadata": {
        "id": "OVr8CZND4x_3"
      },
      "source": [
        "---\n",
        "#### 演習：線形回帰→ニューラルネットワークに修正\n",
        "---"
      ]
    },
    {
      "cell_type": "code",
      "metadata": {
        "colab": {
          "base_uri": "https://localhost:8080/",
          "height": 548
        },
        "id": "a6PGGWEh4x_4",
        "outputId": "1e98c2c1-736d-44fd-e97b-c3e4d42be8b7"
      },
      "source": [
        "from sklearn.linear_model import LinearRegression\n",
        "import pandas as pd\n",
        "import numpy as np\n",
        "import matplotlib.pyplot as plt\n",
        "from sklearn.neural_network import MLPRegressor\n",
        "\n",
        "# 警告無効\n",
        "import warnings\n",
        "warnings.filterwarnings('ignore')\n",
        "\n",
        "# ファイル読み込み\n",
        "df = pd.read_csv('housing.csv',encoding=\"shift-jis\")\n",
        "\n",
        "# 部屋の広さデータの格納\n",
        "x = df.iloc[:,5]\n",
        "\n",
        "# 家賃データの格納\n",
        "y = df.iloc[:,-1]\n",
        "print(x)\n",
        "\n",
        "# 行列に変換\n",
        "x = x.values.reshape(-1, 1)\n",
        "y = y.values.reshape(-1, 1)\n",
        "\n",
        "# MLPRegressornのインスタンス化\n",
        "model = MLPRegressor()\n",
        "\n",
        "# 学習開始\n",
        "model.fit(x, y)\n",
        "\n",
        "# 予測モデルを使って家賃を予測\n",
        "source = [[15]]\n",
        "predicted = model.predict(source)\n",
        "print('予測結果:')\n",
        "print('x(部屋の広さ):', source)\n",
        "print('y(家賃):', predicted)\n",
        "\n",
        "# 精度の確認\n",
        "print(model.score(x,y))\n",
        "\n",
        "# データ生成\n",
        "x_test = np.arange(2,10, 0.1)\n",
        "x_test = x_test.reshape(-1,1)\n",
        "y_pred = model.predict(x_test)\n",
        "\n",
        "# プロット\n",
        "plt.scatter(x, y,label='正解',s=10)\n",
        "plt.plot(x_test, y_pred,label='予測',linewidth = 3,color='red')\n",
        "\n",
        "# 凡例の表示\n",
        "plt.legend()\n",
        "\n",
        "# プロット表示(設定の反映)\n",
        "plt.show()"
      ],
      "execution_count": null,
      "outputs": [
        {
          "output_type": "stream",
          "text": [
            "0      6.575\n",
            "1      6.421\n",
            "2      7.185\n",
            "3      6.998\n",
            "4      7.147\n",
            "       ...  \n",
            "447    6.593\n",
            "448    6.120\n",
            "449    6.976\n",
            "450    6.794\n",
            "451    6.030\n",
            "Name: 部屋の広さ, Length: 452, dtype: float64\n",
            "予測結果:\n",
            "x(部屋の広さ): [[15]]\n",
            "y(家賃): [54.44]\n",
            "0.31881351615777975\n"
          ],
          "name": "stdout"
        },
        {
          "output_type": "display_data",
          "data": {
            "image/png": "[encoded data removed]",
            "text/plain": [
              "<Figure size 432x288 with 1 Axes>"
            ]
          },
          "metadata": {
            "tags": [],
            "needs_background": "light"
          }
        }
      ]
    }
  ]
}