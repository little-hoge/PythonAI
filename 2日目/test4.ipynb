{
  "nbformat": 4,
  "nbformat_minor": 0,
  "metadata": {
    "kernelspec": {
      "display_name": "Python 3",
      "language": "python",
      "name": "python3"
    },
    "language_info": {
      "codemirror_mode": {
        "name": "ipython",
        "version": 3
      },
      "file_extension": ".py",
      "mimetype": "text/x-python",
      "name": "python",
      "nbconvert_exporter": "python",
      "pygments_lexer": "ipython3",
      "version": "3.7.9"
    },
    "colab": {
      "name": "test4.ipynb",
      "provenance": [],
      "collapsed_sections": [],
      "toc_visible": true,
      "include_colab_link": true
    }
  },
  "cells": [
    {
      "cell_type": "markdown",
      "metadata": {
        "id": "view-in-github",
        "colab_type": "text"
      },
      "source": [
        "<a href=\"https://colab.research.google.com/github/little-hoge/PythonAI/blob/main/2%E6%97%A5%E7%9B%AE/test4.ipynb\" target=\"_parent\"><img src=\"https://colab.research.google.com/assets/colab-badge.svg\" alt=\"Open In Colab\"/></a>"
      ]
    },
    {
      "cell_type": "markdown",
      "metadata": {
        "id": "wOVWf3Zov08x"
      },
      "source": [
        "---\n",
        "# ５章\n",
        "---"
      ]
    },
    {
      "cell_type": "markdown",
      "metadata": {
        "id": "tSBaZT1fv4qb"
      },
      "source": [
        "---\r\n",
        "#### ファイルパス設定\r\n",
        "---"
      ]
    },
    {
      "cell_type": "code",
      "metadata": {
        "colab": {
          "base_uri": "https://localhost:8080/"
        },
        "id": "lpp5WE6mv43u",
        "outputId": "f886e94a-c9ae-4b95-98fc-7edbec898060"
      },
      "source": [
        "# ファイル読み込み\r\n",
        "from google.colab import drive \r\n",
        "drive.mount('/content/drive')\r\n",
        "%cd \"/content/drive/My Drive/Colab Notebooks/2日目\""
      ],
      "execution_count": 1,
      "outputs": [
        {
          "output_type": "stream",
          "text": [
            "Drive already mounted at /content/drive; to attempt to forcibly remount, call drive.mount(\"/content/drive\", force_remount=True).\n",
            "/content/drive/My Drive/Colab Notebooks/2日目\n"
          ],
          "name": "stdout"
        }
      ]
    },
    {
      "cell_type": "markdown",
      "metadata": {
        "id": "t_fEhLxXv084"
      },
      "source": [
        "---\n",
        "#### 前処理\n",
        "---"
      ]
    },
    {
      "cell_type": "code",
      "metadata": {
        "colab": {
          "base_uri": "https://localhost:8080/"
        },
        "id": "1EuS3lpYv085",
        "outputId": "e4bf5c94-7a4c-440c-dc3e-6550de592582"
      },
      "source": [
        "from PIL import Image\n",
        "import os, glob\n",
        "import numpy as np\n",
        "from sklearn import model_selection\n",
        "\n",
        "#import warnings\n",
        "#warnings.filterwarnings('ignore')\n",
        "\n",
        "classes = [\"monkey\",\"boar\",\"crow\"]\n",
        "num_classes = len(classes)\n",
        "image_size = 50\n",
        "\n",
        "# 画像の読み込み\n",
        "X = []\n",
        "Y = []\n",
        "for index, classlabel in enumerate(classes):\n",
        "  \n",
        "    #フォルダを指定\n",
        "    photos_dir = \"animalai/\" + classlabel\n",
        "    #ファイルを指定\n",
        "    files = glob.glob(photos_dir + \"/*.jpg\")\n",
        "    print(files)\n",
        "    for i, file in enumerate(files):\n",
        "        if i >= 200: break\n",
        "        #ファイルを開く\n",
        "        image = Image.open(file)\n",
        "        #RGBそれぞれ00～FF（256色）で表しているため、\n",
        "        #1ドットづつ数値化し正解ラベルとともに数値化\n",
        "        image = image.convert(\"RGB\")\n",
        "        #50×50のサイズにリサイズ\n",
        "        image = image.resize((image_size, image_size))\n",
        "        data = np.asarray(image)\n",
        "        X.append(data)\n",
        "        Y.append(index)\n",
        "\n",
        "X = np.array(X).astype(\"float\") / 256\n",
        "Y = np.array(Y)\n",
        "xy = model_selection.train_test_split(X, Y, test_size=0.3, random_state=0)\n",
        "\n",
        "#numpyの行列ファイルとして保存\n",
        "np.save(\"./animal.npy\", xy)"
      ],
      "execution_count": 2,
      "outputs": [
        {
          "output_type": "stream",
          "text": [
            "['animalai/monkey/68347317.jpg', 'animalai/monkey/214759783.jpg', 'animalai/monkey/5610331.jpg', 'animalai/monkey/19426192.jpg', 'animalai/monkey/297887549.jpg', 'animalai/monkey/115828444.jpg', 'animalai/monkey/203757258.jpg', 'animalai/monkey/25255858.jpg', 'animalai/monkey/249719619.jpg', 'animalai/monkey/10353311.jpg']\n",
            "['animalai/boar/212327098.jpg', 'animalai/boar/36025158.jpg', 'animalai/boar/190619675.jpg', 'animalai/boar/156766490.jpg', 'animalai/boar/74627946.jpg', 'animalai/boar/247083615.jpg', 'animalai/boar/75968726.jpg', 'animalai/boar/43136063.jpg', 'animalai/boar/64635188.jpg', 'animalai/boar/107658675.jpg']\n",
            "['animalai/crow/8409993.jpg', 'animalai/crow/42193260.jpg', 'animalai/crow/33681381.jpg', 'animalai/crow/3574240.jpg', 'animalai/crow/36880264.jpg', 'animalai/crow/26355585.jpg', 'animalai/crow/7088908.jpg', 'animalai/crow/269039.jpg', 'animalai/crow/2738037.jpg', 'animalai/crow/11163861.jpg']\n"
          ],
          "name": "stdout"
        },
        {
          "output_type": "stream",
          "text": [
            "/usr/local/lib/python3.6/dist-packages/numpy/core/_asarray.py:136: VisibleDeprecationWarning: Creating an ndarray from ragged nested sequences (which is a list-or-tuple of lists-or-tuples-or ndarrays with different lengths or shapes) is deprecated. If you meant to do this, you must specify 'dtype=object' when creating the ndarray\n",
            "  return array(a, dtype, copy=False, order=order, subok=True)\n"
          ],
          "name": "stderr"
        }
      ]
    },
    {
      "cell_type": "markdown",
      "metadata": {
        "id": "ggwi9Tn7v086"
      },
      "source": [
        "---\n",
        "#### ライブラリのインポート\n",
        "---"
      ]
    },
    {
      "cell_type": "code",
      "metadata": {
        "id": "UJXArs31v086"
      },
      "source": [
        "import numpy as np\n",
        "from sklearn.metrics import accuracy_score, precision_score, recall_score, f1_score\n",
        "\n",
        "import torch\n",
        "import torch.nn as nn\n",
        "import torch.nn.functional as F\n",
        "import torch.optim as optim\n",
        "from torch import from_numpy, manual_seed\n",
        "from torch.utils.data import DataLoader, TensorDataset"
      ],
      "execution_count": 3,
      "outputs": []
    },
    {
      "cell_type": "markdown",
      "metadata": {
        "id": "6GP3EetKv086"
      },
      "source": [
        "---\n",
        "#### 行列の形状を確認し、変形\n",
        "---"
      ]
    },
    {
      "cell_type": "code",
      "metadata": {
        "scrolled": true,
        "id": "quMME_G3v087",
        "colab": {
          "base_uri": "https://localhost:8080/"
        },
        "outputId": "3c440dd7-ce81-4bc7-b2fb-8acbcc9b3b43"
      },
      "source": [
        "X_train, X_test, y_train, y_test = np.load(\"./animal.npy\" , allow_pickle=True)\n",
        "\n",
        "print(\"変形前:\", X_train.shape)\n",
        "\n",
        "# 形状を（件数、縦、横、RGB）から（件数、RGB、縦、横）に変換する\n",
        "X_train = np.transpose(X_train, (0, 3, 1, 2))\n",
        "X_test = np.transpose(X_test, (0, 3, 1, 2))\n",
        "\n",
        "print(\"変更後:\", X_train.shape)"
      ],
      "execution_count": 4,
      "outputs": [
        {
          "output_type": "stream",
          "text": [
            "変形前: (21, 50, 50, 3)\n",
            "変更後: (21, 3, 50, 50)\n"
          ],
          "name": "stdout"
        }
      ]
    },
    {
      "cell_type": "markdown",
      "metadata": {
        "id": "8pAF3HzTv089"
      },
      "source": [
        "---\n",
        "#### テンソル型に変換し、データローダにセット\n",
        "---"
      ]
    },
    {
      "cell_type": "code",
      "metadata": {
        "id": "JvHT5mT6v089"
      },
      "source": [
        "#numpyのデータをテンソル型に変換\n",
        "X_train = from_numpy(X_train.astype(np.float32))\n",
        "y_train = from_numpy(y_train.astype(np.int64))\n",
        "X_test = from_numpy(X_test.astype(np.float32))\n",
        "y_test = from_numpy(y_test.astype(np.int64))\n",
        "\n",
        "#テンソル型のXとYをデータローダーにセット\n",
        "train = TensorDataset(X_train, y_train)\n",
        "\n",
        "# PyTorch のRNGシードを初期化（再現性の為）\n",
        "manual_seed(0)\n",
        "\n",
        "#15件づつに分割してシャッフル\n",
        "train_loader = DataLoader(train, batch_size=15, shuffle=True)"
      ],
      "execution_count": 5,
      "outputs": []
    },
    {
      "cell_type": "markdown",
      "metadata": {
        "id": "1fo_7bjGv08-"
      },
      "source": [
        "---\n",
        "#### 学習モデルを定義\n",
        "---"
      ]
    },
    {
      "cell_type": "code",
      "metadata": {
        "id": "_MoOagPcv08-"
      },
      "source": [
        "# CNNを実装する\n",
        "class Net(nn.Module):\n",
        "    def __init__(self):\n",
        "        super(Net, self).__init__()\n",
        "        self.conv1 = nn.Conv2d(3, 6, 5)\n",
        "        self.pool = nn.MaxPool2d(2)\n",
        "        self.conv2 = nn.Conv2d(6, 16, 5)\n",
        "        self.fc1 = nn.Linear(16 * 9 * 9, 120)\n",
        "        self.fc2 = nn.Linear(120, 84)\n",
        "        self.fc3 = nn.Linear(84, 3)\n",
        "\n",
        "    def forward(self, x):\n",
        "        x = self.conv1(x)\n",
        "        x = F.relu(x)\n",
        "        x = self.pool(x)\n",
        "        x = self.conv2(x)\n",
        "        x = F.relu(x)\n",
        "        x = self.pool(x)\n",
        "        x = x.view(-1, 16 * 9 * 9)\n",
        "        x = F.relu(self.fc1(x))\n",
        "        x = F.relu(self.fc2(x))\n",
        "        x = self.fc3(x)\n",
        "        return x"
      ],
      "execution_count": 6,
      "outputs": []
    },
    {
      "cell_type": "markdown",
      "metadata": {
        "id": "0MGDkGRBv08-"
      },
      "source": [
        "---\n",
        "#### 機械学習実行\n",
        "---"
      ]
    },
    {
      "cell_type": "code",
      "metadata": {
        "id": "JQS0Sf-Mv08-",
        "colab": {
          "base_uri": "https://localhost:8080/"
        },
        "outputId": "a461ddcd-55cd-432b-ee8c-f078bd1e2419"
      },
      "source": [
        "model = Net()\n",
        "# 交差エントロピー\n",
        "criterion = nn.CrossEntropyLoss()\n",
        "# 確率的勾配降下法\n",
        "optimizer = optim.SGD(model.parameters(), lr=0.01, momentum=0.9)\n",
        "\n",
        "for epoch in range(500): #学習回数500回\n",
        "    total_loss = 0\n",
        "\n",
        "    for X_train, y_train in train_loader:\n",
        "        optimizer.zero_grad()\n",
        "        output = model(X_train)\n",
        "        loss = criterion(output, y_train)\n",
        "        loss.backward()\n",
        "        optimizer.step()\n",
        "        total_loss += loss.item()\n",
        "\n",
        "    #途中の損失関数を確認\n",
        "    if (epoch + 1) % 50 == 0:\n",
        "        print(epoch + 1, total_loss)"
      ],
      "execution_count": 7,
      "outputs": [
        {
          "output_type": "stream",
          "text": [
            "50 1.633530080318451\n",
            "100 0.0006062689499231055\n",
            "150 0.0002677513512026053\n",
            "200 0.00013577770732808858\n",
            "250 0.00010341083907405846\n",
            "300 8.235440327553079e-05\n",
            "350 7.883145553932991e-05\n",
            "400 4.05128565432733e-05\n",
            "450 5.484143730427604e-05\n",
            "500 5.173037607164588e-05\n"
          ],
          "name": "stdout"
        }
      ]
    },
    {
      "cell_type": "markdown",
      "metadata": {
        "id": "R9aX6GVGv08_"
      },
      "source": [
        "---\n",
        "#### 学習済みモデルの保存\n",
        "---"
      ]
    },
    {
      "cell_type": "code",
      "metadata": {
        "id": "MY_9NeSWv08_"
      },
      "source": [
        "# モデルを保存する\n",
        "PATH = './animal_cnn.pth'\n",
        "torch.save(model.state_dict(), PATH)"
      ],
      "execution_count": 8,
      "outputs": []
    },
    {
      "cell_type": "markdown",
      "metadata": {
        "id": "j3YHbxyYv08_"
      },
      "source": [
        "---\n",
        "#### ライブラリと前処理済み画像データの読み込み\n",
        "---"
      ]
    },
    {
      "cell_type": "code",
      "metadata": {
        "id": "b9gqgPZSv09A"
      },
      "source": [
        "\n",
        "%matplotlib inline\n",
        "import matplotlib.pyplot as plt\n",
        "import seaborn as sns\n",
        "import numpy as np\n",
        "from sklearn.metrics import accuracy_score, precision_score, recall_score, f1_score\n",
        "from sklearn.metrics import roc_curve, roc_auc_score\n",
        "\n",
        "import torch\n",
        "import torch.nn as nn\n",
        "import torch.nn.functional as F\n",
        "import torch.optim as optim\n",
        "from torch import from_numpy, manual_seed\n",
        "from torch.utils.data import DataLoader, TensorDataset\n",
        "\n",
        "# 前処理済み画像データの読み込み\n",
        "X_train, X_test, y_train, y_test = np.load(\"./animal.npy\", allow_pickle=True)\n",
        "\n",
        "# 形状を（件数、縦、横、RGB）から（件数、RGB、縦、横）に変換する\n",
        "X_train = np.transpose(X_train, (0, 3, 1, 2))\n",
        "X_test = np.transpose(X_test, (0, 3, 1, 2))\n",
        "\n",
        "#numpyのデータをテンソル型に変換\n",
        "X_train = from_numpy(X_train.astype(np.float32))\n",
        "y_train = from_numpy(y_train.astype(np.int64))\n",
        "X_test = from_numpy(X_test.astype(np.float32))\n",
        "y_test = from_numpy(y_test.astype(np.int64))"
      ],
      "execution_count": 9,
      "outputs": []
    },
    {
      "cell_type": "markdown",
      "metadata": {
        "id": "BODT-0hqv09A"
      },
      "source": [
        "---\n",
        "#### 学習モデルを定義\n",
        "---"
      ]
    },
    {
      "cell_type": "code",
      "metadata": {
        "id": "k_igFEB2v09A"
      },
      "source": [
        "# CNNを実装する\n",
        "class Net(nn.Module):\n",
        "    def __init__(self):\n",
        "        super(Net, self).__init__()\n",
        "        self.conv1 = nn.Conv2d(3, 6, 5)\n",
        "        self.pool = nn.MaxPool2d(2)\n",
        "        self.conv2 = nn.Conv2d(6, 16, 5)\n",
        "        self.fc1 = nn.Linear(16 * 9 * 9, 120)\n",
        "        self.fc2 = nn.Linear(120, 84)\n",
        "        self.fc3 = nn.Linear(84, 3)\n",
        "\n",
        "    def forward(self, x):\n",
        "        x = self.conv1(x)\n",
        "        x = F.relu(x)\n",
        "        x = self.pool(x)\n",
        "        x = self.conv2(x)\n",
        "        x = F.relu(x)\n",
        "        x = self.pool(x)\n",
        "        x = x.view(-1, 16 * 9 * 9)\n",
        "        x = F.relu(self.fc1(x))\n",
        "        x = F.relu(self.fc2(x))\n",
        "        x = self.fc3(x)\n",
        "        return x"
      ],
      "execution_count": 10,
      "outputs": []
    },
    {
      "cell_type": "markdown",
      "metadata": {
        "id": "puMG2I5yv09A"
      },
      "source": [
        "---\n",
        "#### 学習済みモデルを読み込み\n",
        "---"
      ]
    },
    {
      "cell_type": "code",
      "metadata": {
        "id": "iVBE9lFcv09B",
        "colab": {
          "base_uri": "https://localhost:8080/"
        },
        "outputId": "41130864-71be-416b-aa29-351b08515e3b"
      },
      "source": [
        "model = Net()\n",
        "PATH = './animal_cnn.pth'\n",
        "model.load_state_dict(torch.load(PATH))"
      ],
      "execution_count": 11,
      "outputs": [
        {
          "output_type": "execute_result",
          "data": {
            "text/plain": [
              "<All keys matched successfully>"
            ]
          },
          "metadata": {
            "tags": []
          },
          "execution_count": 11
        }
      ]
    },
    {
      "cell_type": "markdown",
      "metadata": {
        "id": "VzB46Em4v09B"
      },
      "source": [
        "---\n",
        "#### 精度確認\n",
        "---"
      ]
    },
    {
      "cell_type": "code",
      "metadata": {
        "id": "BOkOs4Esv09B",
        "colab": {
          "base_uri": "https://localhost:8080/"
        },
        "outputId": "9940d67d-109b-4b31-f309-3887cad225ee"
      },
      "source": [
        "#テストデータで予測結果を作成\n",
        "y_prob , y_pred = torch.max(model(X_test).data, 1)\n",
        "\n",
        "accuracy = accuracy_score(y_test, y_pred)\n",
        "\n",
        "print(\"正確度：\",accuracy)\n",
        "\n",
        "# 正確度（正解率）を算出　(TP + TN) / 全体\n",
        "accuracy = accuracy_score(y_test, y_pred)\n",
        "\n",
        "# 適合度を算出　TP / (TP + FP)\n",
        "precision = precision_score(y_test, y_pred, average=None)\n",
        "\n",
        "#再現度を算出　TP / (TP + FN)\n",
        "recall = recall_score(y_test, y_pred, average=None)\n",
        "\n",
        "#F1スコアを算出 (2 - 適合度 × 再現度) / (適合度 × 再現度)\n",
        "f1 = f1_score(y_test, y_pred, average=None)\n",
        "\n",
        "print(\"正確度（Accuracy）                   適合度（Precision） \") \n",
        "print(accuracy, \"                 \", precision) \n",
        "print(\"再現度（Recall）                     F1スコア（F1） \") \n",
        "print(recall, \" \", f1) "
      ],
      "execution_count": 12,
      "outputs": [
        {
          "output_type": "stream",
          "text": [
            "正確度： 0.2222222222222222\n",
            "正確度（Accuracy）                   適合度（Precision） \n",
            "0.2222222222222222                   [0.         0.66666667 0.        ]\n",
            "再現度（Recall）                     F1スコア（F1） \n",
            "[0.  0.5 0. ]   [0.         0.57142857 0.        ]\n"
          ],
          "name": "stdout"
        },
        {
          "output_type": "stream",
          "text": [
            "/usr/local/lib/python3.6/dist-packages/sklearn/metrics/_classification.py:1272: UndefinedMetricWarning: Precision is ill-defined and being set to 0.0 in labels with no predicted samples. Use `zero_division` parameter to control this behavior.\n",
            "  _warn_prf(average, modifier, msg_start, len(result))\n"
          ],
          "name": "stderr"
        }
      ]
    }
  ]
}