{
 "cells": [
  {
   "cell_type": "markdown",
   "metadata": {},
   "source": [
    "---\n",
    "# ライブラリのインポート\n",
    "---\n",
    "~~~python\n",
    "import numpy as np\n",
    "from sklearn.metrics import accuracy_score, precision_score, recall_score, f1_score\n",
    "\n",
    "import torch\n",
    "import torch.nn as nn\n",
    "import torch.nn.functional as F\n",
    "import torch.optim as optim\n",
    "from torch import from_numpy, manual_seed\n",
    "from torch.utils.data import DataLoader, TensorDataset\n",
    "~~~"
   ]
  },
  {
   "cell_type": "code",
   "execution_count": 1,
   "metadata": {},
   "outputs": [],
   "source": [
    "import numpy as np\n",
    "from sklearn.metrics import accuracy_score, precision_score, recall_score, f1_score\n",
    "\n",
    "import torch\n",
    "import torch.nn as nn\n",
    "import torch.nn.functional as F\n",
    "import torch.optim as optim\n",
    "from torch import from_numpy, manual_seed\n",
    "from torch.utils.data import DataLoader, TensorDataset"
   ]
  },
  {
   "cell_type": "markdown",
   "metadata": {},
   "source": [
    "---\n",
    "# 行列の形状を確認し、変形\n",
    "---\n",
    "~~~python\n",
    "X_train, X_test, y_train, y_test = np.load(\"./animal.npy\" , allow_pickle=True)\n",
    "\n",
    "print(\"変形前:\", X_train.shape)\n",
    "\n",
    "# 形状を（件数、縦、横、RGB）から（件数、RGB、縦、横）に変換する\n",
    "X_train = np.transpose(X_train, (0, 3, 1, 2))\n",
    "X_test = np.transpose(X_test, (0, 3, 1, 2))\n",
    "\n",
    "print(\"変更後:\", X_train.shape)\n",
    "~~~"
   ]
  },
  {
   "cell_type": "code",
   "execution_count": 2,
   "metadata": {
    "scrolled": true
   },
   "outputs": [
    {
     "name": "stdout",
     "output_type": "stream",
     "text": [
      "変形前: (420, 50, 50, 3)\n",
      "変更後: (420, 3, 50, 50)\n"
     ]
    }
   ],
   "source": [
    "X_train, X_test, y_train, y_test = np.load(\"./animal.npy\" , allow_pickle=True)\n",
    "\n",
    "print(\"変形前:\", X_train.shape)\n",
    "\n",
    "# 形状を（件数、縦、横、RGB）から（件数、RGB、縦、横）に変換する\n",
    "X_train = np.transpose(X_train, (0, 3, 1, 2))\n",
    "X_test = np.transpose(X_test, (0, 3, 1, 2))\n",
    "\n",
    "print(\"変更後:\", X_train.shape)"
   ]
  },
  {
   "cell_type": "markdown",
   "metadata": {},
   "source": [
    "---\n",
    "# テンソル型に変換し、データローダにセット\n",
    "---\n",
    "~~~python\n",
    "#numpyのデータをテンソル型に変換\n",
    "X_train = from_numpy(X_train.astype(np.float32))\n",
    "y_train = from_numpy(y_train.astype(np.int64))\n",
    "X_test = from_numpy(X_test.astype(np.float32))\n",
    "y_test = from_numpy(y_test.astype(np.int64))\n",
    "\n",
    "#テンソル型のXとYをデータローダーにセット\n",
    "train = TensorDataset(X_train, y_train)\n",
    "\n",
    "# PyTorch のRNGシードを初期化（再現性の為）\n",
    "manual_seed(0)\n",
    "\n",
    "#15件づつに分割してシャッフル\n",
    "train_loader = DataLoader(train, batch_size=15, shuffle=True)\n",
    "~~~"
   ]
  },
  {
   "cell_type": "code",
   "execution_count": 3,
   "metadata": {},
   "outputs": [],
   "source": [
    "#numpyのデータをテンソル型に変換\n",
    "X_train = from_numpy(X_train.astype(np.float32))\n",
    "y_train = from_numpy(y_train.astype(np.int64))\n",
    "X_test = from_numpy(X_test.astype(np.float32))\n",
    "y_test = from_numpy(y_test.astype(np.int64))\n",
    "\n",
    "#テンソル型のXとYをデータローダーにセット\n",
    "train = TensorDataset(X_train, y_train)\n",
    "\n",
    "# PyTorch のRNGシードを初期化（再現性の為）\n",
    "manual_seed(0)\n",
    "\n",
    "#15件づつに分割してシャッフル\n",
    "train_loader = DataLoader(train, batch_size=15, shuffle=True)"
   ]
  },
  {
   "cell_type": "markdown",
   "metadata": {},
   "source": [
    "---\n",
    "# 学習モデルを定義\n",
    "---\n",
    "~~~python\n",
    "# CNNを実装する\n",
    "class Net(nn.Module):\n",
    "    def __init__(self):\n",
    "        super(Net, self).__init__()\n",
    "        self.conv1 = nn.Conv2d(3, 6, 5)\n",
    "        self.pool = nn.MaxPool2d(2)\n",
    "        self.conv2 = nn.Conv2d(6, 16, 5)\n",
    "        self.fc1 = nn.Linear(16 * 9 * 9, 120)\n",
    "        self.fc2 = nn.Linear(120, 84)\n",
    "        self.fc3 = nn.Linear(84, 3)\n",
    "\n",
    "    def forward(self, x):\n",
    "        x = self.conv1(x)\n",
    "        x = F.relu(x)\n",
    "        x = self.pool(x)\n",
    "        x = self.conv2(x)\n",
    "        x = F.relu(x)\n",
    "        x = self.pool(x)\n",
    "        x = x.view(-1, 16 * 9 * 9)\n",
    "        x = F.relu(self.fc1(x))\n",
    "        x = F.relu(self.fc2(x))\n",
    "        x = self.fc3(x)\n",
    "        return x\n",
    "~~~"
   ]
  },
  {
   "cell_type": "code",
   "execution_count": 4,
   "metadata": {},
   "outputs": [],
   "source": [
    "# CNNを実装する\n",
    "class Net(nn.Module):\n",
    "    def __init__(self):\n",
    "        super(Net, self).__init__()\n",
    "        self.conv1 = nn.Conv2d(3, 6, 5)\n",
    "        self.pool = nn.MaxPool2d(2)\n",
    "        self.conv2 = nn.Conv2d(6, 16, 5)\n",
    "        self.fc1 = nn.Linear(16 * 9 * 9, 120)\n",
    "        self.fc2 = nn.Linear(120, 84)\n",
    "        self.fc3 = nn.Linear(84, 3)\n",
    "\n",
    "    def forward(self, x):\n",
    "        x = self.conv1(x)\n",
    "        x = F.relu(x)\n",
    "        x = self.pool(x)\n",
    "        x = self.conv2(x)\n",
    "        x = F.relu(x)\n",
    "        x = self.pool(x)\n",
    "        x = x.view(-1, 16 * 9 * 9)\n",
    "        x = F.relu(self.fc1(x))\n",
    "        x = F.relu(self.fc2(x))\n",
    "        x = self.fc3(x)\n",
    "        return x"
   ]
  },
  {
   "cell_type": "markdown",
   "metadata": {},
   "source": [
    "---\n",
    "# 機械学習実行\n",
    "---\n",
    "~~~python\n",
    "model = Net()\n",
    "# 交差エントロピー\n",
    "criterion = nn.CrossEntropyLoss()\n",
    "# 確率的勾配降下法\n",
    "optimizer = optim.SGD(model.parameters(), lr=0.01, momentum=0.9)\n",
    "\n",
    "for epoch in range(500): #学習回数500回\n",
    "    total_loss = 0\n",
    "     \n",
    "    for X_train, y_train in train_loader:\n",
    "        optimizer.zero_grad()\n",
    "        output = model(X_train)\n",
    "        loss = criterion(output, y_train)\n",
    "        loss.backward()\n",
    "        optimizer.step()\n",
    "        total_loss += loss.item()\n",
    "    \n",
    "    #途中の損失関数を確認\n",
    "    if (epoch + 1) % 50 == 0:\n",
    "        print(epoch + 1, total_loss)\n",
    "~~~"
   ]
  },
  {
   "cell_type": "code",
   "execution_count": 5,
   "metadata": {},
   "outputs": [
    {
     "name": "stdout",
     "output_type": "stream",
     "text": [
      "50 0.1258764510130277\n",
      "100 0.0016908556669932295\n",
      "150 0.0007928972752324626\n",
      "200 0.0005082241806917409\n",
      "250 0.00036980733335667537\n",
      "300 0.0002892360066155675\n",
      "350 0.00023633024159153138\n",
      "400 0.0001990537340184062\n",
      "450 0.00017158258067695442\n",
      "500 0.00015034916627598705\n"
     ]
    }
   ],
   "source": [
    "model = Net()\n",
    "# 交差エントロピー\n",
    "criterion = nn.CrossEntropyLoss()\n",
    "# 確率的勾配降下法\n",
    "optimizer = optim.SGD(model.parameters(), lr=0.01, momentum=0.9)\n",
    "\n",
    "for epoch in range(500): #学習回数500回\n",
    "    total_loss = 0\n",
    "\n",
    "    for X_train, y_train in train_loader:\n",
    "        optimizer.zero_grad()\n",
    "        output = model(X_train)\n",
    "        loss = criterion(output, y_train)\n",
    "        loss.backward()\n",
    "        optimizer.step()\n",
    "        total_loss += loss.item()\n",
    "\n",
    "    #途中の損失関数を確認\n",
    "    if (epoch + 1) % 50 == 0:\n",
    "        print(epoch + 1, total_loss)"
   ]
  },
  {
   "cell_type": "markdown",
   "metadata": {},
   "source": [
    "---\n",
    "# 学習済みモデルの保存\n",
    "---\n",
    "~~~python\n",
    "# モデルを保存する\n",
    "PATH = './animal_cnn.pth'\n",
    "torch.save(model.state_dict(), PATH)\n",
    "~~~"
   ]
  },
  {
   "cell_type": "code",
   "execution_count": 6,
   "metadata": {},
   "outputs": [],
   "source": [
    "# モデルを保存する\n",
    "PATH = './animal_cnn.pth'\n",
    "torch.save(model.state_dict(), PATH)"
   ]
  },
  {
   "cell_type": "code",
   "execution_count": null,
   "metadata": {},
   "outputs": [],
   "source": []
  }
 ],
 "metadata": {
  "kernelspec": {
   "display_name": "Python 3",
   "language": "python",
   "name": "python3"
  },
  "language_info": {
   "codemirror_mode": {
    "name": "ipython",
    "version": 3
   },
   "file_extension": ".py",
   "mimetype": "text/x-python",
   "name": "python",
   "nbconvert_exporter": "python",
   "pygments_lexer": "ipython3",
   "version": "3.7.9"
  }
 },
 "nbformat": 4,
 "nbformat_minor": 2
}
