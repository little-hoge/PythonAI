{
 "cells": [
  {
   "cell_type": "markdown",
   "metadata": {},
   "source": [
    "---\n",
    "# ライブラリと前処理済み画像データの読み込み\n",
    "---\n",
    "~~~python\n",
    "%matplotlib inline\n",
    "import matplotlib.pyplot as plt\n",
    "import seaborn as sns\n",
    "import numpy as np\n",
    "from sklearn.metrics import accuracy_score, precision_score, recall_score, f1_score\n",
    "from sklearn.metrics import roc_curve, roc_auc_score\n",
    "\n",
    "import torch\n",
    "import torch.nn as nn\n",
    "import torch.nn.functional as F\n",
    "import torch.optim as optim\n",
    "from torch import from_numpy, manual_seed\n",
    "from torch.utils.data import DataLoader, TensorDataset\n",
    "\n",
    "# 前処理済み画像データの読み込み\n",
    "X_train, X_test, y_train, y_test = np.load(\"./animal.npy\")\n",
    "\n",
    "# 形状を（件数、縦、横、RGB）から（件数、RGB、縦、横）に変換する\n",
    "X_train = np.transpose(X_train, (0, 3, 1, 2))\n",
    "X_test = np.transpose(X_test, (0, 3, 1, 2))\n",
    "\n",
    "#numpyのデータをテンソル型に変換\n",
    "X_train = from_numpy(X_train.astype(np.float32))\n",
    "y_train = from_numpy(y_train.astype(np.int64))\n",
    "X_test = from_numpy(X_test.astype(np.float32))\n",
    "y_test = from_numpy(y_test.astype(np.int64))\n",
    "~~~"
   ]
  },
  {
   "cell_type": "code",
   "execution_count": 2,
   "metadata": {},
   "outputs": [],
   "source": [
    "\n",
    "%matplotlib inline\n",
    "import matplotlib.pyplot as plt\n",
    "import seaborn as sns\n",
    "import numpy as np\n",
    "from sklearn.metrics import accuracy_score, precision_score, recall_score, f1_score\n",
    "from sklearn.metrics import roc_curve, roc_auc_score\n",
    "\n",
    "import torch\n",
    "import torch.nn as nn\n",
    "import torch.nn.functional as F\n",
    "import torch.optim as optim\n",
    "from torch import from_numpy, manual_seed\n",
    "from torch.utils.data import DataLoader, TensorDataset\n",
    "\n",
    "# 前処理済み画像データの読み込み\n",
    "X_train, X_test, y_train, y_test = np.load(\"./animal.npy\", allow_pickle=True)\n",
    "\n",
    "# 形状を（件数、縦、横、RGB）から（件数、RGB、縦、横）に変換する\n",
    "X_train = np.transpose(X_train, (0, 3, 1, 2))\n",
    "X_test = np.transpose(X_test, (0, 3, 1, 2))\n",
    "\n",
    "#numpyのデータをテンソル型に変換\n",
    "X_train = from_numpy(X_train.astype(np.float32))\n",
    "y_train = from_numpy(y_train.astype(np.int64))\n",
    "X_test = from_numpy(X_test.astype(np.float32))\n",
    "y_test = from_numpy(y_test.astype(np.int64))"
   ]
  },
  {
   "cell_type": "markdown",
   "metadata": {},
   "source": [
    "---\n",
    "# 学習モデルを定義\n",
    "---\n",
    "~~~python\n",
    "# CNNを実装する\n",
    "class Net(nn.Module):\n",
    "    def __init__(self):\n",
    "        super(Net, self).__init__()\n",
    "        self.conv1 = nn.Conv2d(3, 6, 5)\n",
    "        self.pool = nn.MaxPool2d(2)\n",
    "        self.conv2 = nn.Conv2d(6, 16, 5)\n",
    "        self.fc1 = nn.Linear(16 * 9 * 9, 120)\n",
    "        self.fc2 = nn.Linear(120, 84)\n",
    "        self.fc3 = nn.Linear(84, 3)\n",
    "\n",
    "    def forward(self, x):\n",
    "        x = self.conv1(x)\n",
    "        x = F.relu(x)\n",
    "        x = self.pool(x)\n",
    "        x = self.conv2(x)\n",
    "        x = F.relu(x)\n",
    "        x = self.pool(x)\n",
    "        x = x.view(-1, 16 * 9 * 9)\n",
    "        x = F.relu(self.fc1(x))\n",
    "        x = F.relu(self.fc2(x))\n",
    "        x = self.fc3(x)\n",
    "        return x\n",
    "~~~"
   ]
  },
  {
   "cell_type": "code",
   "execution_count": 3,
   "metadata": {},
   "outputs": [],
   "source": [
    "# CNNを実装する\n",
    "class Net(nn.Module):\n",
    "    def __init__(self):\n",
    "        super(Net, self).__init__()\n",
    "        self.conv1 = nn.Conv2d(3, 6, 5)\n",
    "        self.pool = nn.MaxPool2d(2)\n",
    "        self.conv2 = nn.Conv2d(6, 16, 5)\n",
    "        self.fc1 = nn.Linear(16 * 9 * 9, 120)\n",
    "        self.fc2 = nn.Linear(120, 84)\n",
    "        self.fc3 = nn.Linear(84, 3)\n",
    "\n",
    "    def forward(self, x):\n",
    "        x = self.conv1(x)\n",
    "        x = F.relu(x)\n",
    "        x = self.pool(x)\n",
    "        x = self.conv2(x)\n",
    "        x = F.relu(x)\n",
    "        x = self.pool(x)\n",
    "        x = x.view(-1, 16 * 9 * 9)\n",
    "        x = F.relu(self.fc1(x))\n",
    "        x = F.relu(self.fc2(x))\n",
    "        x = self.fc3(x)\n",
    "        return x"
   ]
  },
  {
   "cell_type": "markdown",
   "metadata": {},
   "source": [
    "---\n",
    "# 学習済みモデルを読み込み\n",
    "---\n",
    "~~~python\n",
    "model = Net()\n",
    "PATH = './animal_cnn.pth'\n",
    "model.load_state_dict(torch.load(PATH))\n",
    "~~~"
   ]
  },
  {
   "cell_type": "code",
   "execution_count": 4,
   "metadata": {},
   "outputs": [
    {
     "data": {
      "text/plain": [
       "<All keys matched successfully>"
      ]
     },
     "execution_count": 4,
     "metadata": {},
     "output_type": "execute_result"
    }
   ],
   "source": [
    "model = Net()\n",
    "PATH = './animal_cnn.pth'\n",
    "model.load_state_dict(torch.load(PATH))"
   ]
  },
  {
   "cell_type": "markdown",
   "metadata": {},
   "source": [
    "---\n",
    "# 精度確認\n",
    "---\n",
    "~~~python\n",
    "#テストデータで予測結果を作成\n",
    "y_prob , y_pred = torch.max(model(X_test).data, 1)\n",
    "\n",
    "accuracy = accuracy_score(y_test, y_pred)\n",
    "\n",
    "print(\"正確度：\",accuracy)\n",
    "\n",
    "# 正確度（正解率）を算出　(TP + TN) / 全体\n",
    "accuracy = accuracy_score(y_test, y_pred)\n",
    "\n",
    "# 適合度を算出　TP / (TP + FP)\n",
    "precision = precision_score(y_test, y_pred, average=None)\n",
    "\n",
    "#再現度を算出　TP / (TP + FN)\n",
    "recall = recall_score(y_test, y_pred, average=None)\n",
    "\n",
    "#F1スコアを算出 (2 - 適合度 × 再現度) / (適合度 × 再現度)\n",
    "f1 = f1_score(y_test, y_pred, average=None)\n",
    "\n",
    "print(\"正確度（Accuracy）                   適合度（Precision） \") \n",
    "print(accuracy, \"                 \", precision) \n",
    "print(\"再現度（Recall）                     F1スコア（F1） \") \n",
    "print(recall, \" \", f1) \n",
    "~~~"
   ]
  },
  {
   "cell_type": "code",
   "execution_count": 5,
   "metadata": {},
   "outputs": [
    {
     "name": "stdout",
     "output_type": "stream",
     "text": [
      "正確度： 0.5944444444444444\n",
      "正確度（Accuracy）                   適合度（Precision） \n",
      "0.5944444444444444                   [0.60344828 0.47916667 0.66216216]\n",
      "再現度（Recall）                     F1スコア（F1） \n",
      "[0.63636364 0.37704918 0.765625  ]   [0.61946903 0.42201835 0.71014493]\n"
     ]
    }
   ],
   "source": [
    "#テストデータで予測結果を作成\n",
    "y_prob , y_pred = torch.max(model(X_test).data, 1)\n",
    "\n",
    "accuracy = accuracy_score(y_test, y_pred)\n",
    "\n",
    "print(\"正確度：\",accuracy)\n",
    "\n",
    "# 正確度（正解率）を算出　(TP + TN) / 全体\n",
    "accuracy = accuracy_score(y_test, y_pred)\n",
    "\n",
    "# 適合度を算出　TP / (TP + FP)\n",
    "precision = precision_score(y_test, y_pred, average=None)\n",
    "\n",
    "#再現度を算出　TP / (TP + FN)\n",
    "recall = recall_score(y_test, y_pred, average=None)\n",
    "\n",
    "#F1スコアを算出 (2 - 適合度 × 再現度) / (適合度 × 再現度)\n",
    "f1 = f1_score(y_test, y_pred, average=None)\n",
    "\n",
    "print(\"正確度（Accuracy）                   適合度（Precision） \") \n",
    "print(accuracy, \"                 \", precision) \n",
    "print(\"再現度（Recall）                     F1スコア（F1） \") \n",
    "print(recall, \" \", f1) "
   ]
  },
  {
   "cell_type": "code",
   "execution_count": null,
   "metadata": {},
   "outputs": [],
   "source": []
  }
 ],
 "metadata": {
  "kernelspec": {
   "display_name": "Python 3",
   "language": "python",
   "name": "python3"
  },
  "language_info": {
   "codemirror_mode": {
    "name": "ipython",
    "version": 3
   },
   "file_extension": ".py",
   "mimetype": "text/x-python",
   "name": "python",
   "nbconvert_exporter": "python",
   "pygments_lexer": "ipython3",
   "version": "3.7.9"
  }
 },
 "nbformat": 4,
 "nbformat_minor": 2
}
