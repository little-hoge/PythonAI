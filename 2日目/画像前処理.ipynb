{
 "cells": [
  {
   "cell_type": "markdown",
   "metadata": {},
   "source": [
    "~~~python\n",
    "from PIL import Image\n",
    "import os, glob\n",
    "import numpy as np\n",
    "from sklearn import model_selection\n",
    "\n",
    "classes = [\"monkey\",\"boar\",\"crow\"]\n",
    "num_classes = len(classes)\n",
    "image_size = 50\n",
    "\n",
    "# 画像の読み込み\n",
    "X = []\n",
    "Y = []\n",
    "for index, classlabel in enumerate(classes):\n",
    "    #フォルダを指定\n",
    "    photos_dir = \"./\" + classlabel\n",
    "    #ファイルを指定\n",
    "    files = glob.glob(photos_dir + \"/*.jpg\")\n",
    "    for i, file in enumerate(files):\n",
    "        if i >= 200: break\n",
    "        #ファイルを開く\n",
    "        image = Image.open(file)\n",
    "        #RGBそれぞれ00～FF（256色）で表しているため、\n",
    "        #1ドットづつ数値化し正解ラベルとともに数値化\n",
    "        image = image.convert(\"RGB\")\n",
    "        #50×50のサイズにリサイズ\n",
    "        image = image.resize((image_size, image_size))\n",
    "        data = np.asarray(image)\n",
    "        X.append(data)\n",
    "        Y.append(index)\n",
    "\n",
    "X = np.array(X).astype(\"float\") / 256\n",
    "Y = np.array(Y)\n",
    "\n",
    "\n",
    "xy = model_selection.train_test_split(X, Y, test_size=0.3, random_state=0)\n",
    "\n",
    "#numpyの行列ファイルとして保存\n",
    "np.save(\"./animal.npy\", xy)\n",
    "~~~"
   ]
  },
  {
   "cell_type": "code",
   "execution_count": 2,
   "metadata": {},
   "outputs": [
    {
     "name": "stderr",
     "output_type": "stream",
     "text": [
      "C:\\Users\\littl\\.conda\\envs\\ai_guide\\lib\\site-packages\\numpy\\core\\_asarray.py:136: VisibleDeprecationWarning: Creating an ndarray from ragged nested sequences (which is a list-or-tuple of lists-or-tuples-or ndarrays with different lengths or shapes) is deprecated. If you meant to do this, you must specify 'dtype=object' when creating the ndarray\n",
      "  return array(a, dtype, copy=False, order=order, subok=True)\n"
     ]
    }
   ],
   "source": [
    "from PIL import Image\n",
    "import os, glob\n",
    "import numpy as np\n",
    "from sklearn import model_selection\n",
    "\n",
    "classes = [\"monkey\",\"boar\",\"crow\"]\n",
    "num_classes = len(classes)\n",
    "image_size = 50\n",
    "\n",
    "# 画像の読み込み\n",
    "X = []\n",
    "Y = []\n",
    "for index, classlabel in enumerate(classes):\n",
    "    #フォルダを指定\n",
    "    photos_dir = \"./\" + classlabel\n",
    "    #ファイルを指定\n",
    "    files = glob.glob(photos_dir + \"/*.jpg\")\n",
    "    for i, file in enumerate(files):\n",
    "        if i >= 200: break\n",
    "        #ファイルを開く\n",
    "        image = Image.open(file)\n",
    "        #RGBそれぞれ00～FF（256色）で表しているため、\n",
    "        #1ドットづつ数値化し正解ラベルとともに数値化\n",
    "        image = image.convert(\"RGB\")\n",
    "        #50×50のサイズにリサイズ\n",
    "        image = image.resize((image_size, image_size))\n",
    "        data = np.asarray(image)\n",
    "        X.append(data)\n",
    "        Y.append(index)\n",
    "\n",
    "X = np.array(X).astype(\"float\") / 256\n",
    "Y = np.array(Y)\n",
    "\n",
    "\n",
    "xy = model_selection.train_test_split(X, Y, test_size=0.3, random_state=0)\n",
    "\n",
    "#numpyの行列ファイルとして保存\n",
    "np.save(\"./animal.npy\", xy)"
   ]
  },
  {
   "cell_type": "code",
   "execution_count": null,
   "metadata": {},
   "outputs": [],
   "source": []
  }
 ],
 "metadata": {
  "kernelspec": {
   "display_name": "Python 3",
   "language": "python",
   "name": "python3"
  },
  "language_info": {
   "codemirror_mode": {
    "name": "ipython",
    "version": 3
   },
   "file_extension": ".py",
   "mimetype": "text/x-python",
   "name": "python",
   "nbconvert_exporter": "python",
   "pygments_lexer": "ipython3",
   "version": "3.7.9"
  }
 },
 "nbformat": 4,
 "nbformat_minor": 2
}
